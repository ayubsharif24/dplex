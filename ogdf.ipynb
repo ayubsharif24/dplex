{
 "cells": [
  {
   "cell_type": "code",
   "execution_count": 1,
   "metadata": {},
   "outputs": [],
   "source": [
    "import os \n",
    "import networkx as nx\n",
    "import timeit\n",
    "\n",
    "G = nx.binomial_tree(10)\n",
    "\n",
    "nx.write_gml(G, \"build/input_graph.gml\")\n",
    "\n",
    "ogdf_fmm = timeit.timeit(lambda: os.system(r\"/Users/mpiekenbrock/dplex/build/ogdf_layout\"), number = 5)\n",
    "\n"
   ]
  },
  {
   "cell_type": "code",
   "execution_count": null,
   "metadata": {},
   "outputs": [],
   "source": [
    "fruchterman_reingold"
   ]
  },
  {
   "cell_type": "code",
   "execution_count": null,
   "metadata": {},
   "outputs": [],
   "source": [
    "def fr_layout(file):\n",
    "\tG = nx.read_gml(file)\n",
    "\treturn(nx.spring_layout(G))\n",
    "\n",
    "nx_fr = timeit.timeit(lambda: fr_layout(\"build/input_graph.gml\"), number = 5)"
   ]
  }
 ],
 "metadata": {
  "interpreter": {
   "hash": "2826baa23341e820840793a691879fa5f77e9fc228477039517ba5ccd9c9ad08"
  },
  "kernelspec": {
   "display_name": "Python 3.9.7 64-bit ('tallem': conda)",
   "name": "python3"
  },
  "language_info": {
   "codemirror_mode": {
    "name": "ipython",
    "version": 3
   },
   "file_extension": ".py",
   "mimetype": "text/x-python",
   "name": "python",
   "nbconvert_exporter": "python",
   "pygments_lexer": "ipython3",
   "version": "3.9.7"
  },
  "orig_nbformat": 4
 },
 "nbformat": 4,
 "nbformat_minor": 2
}
